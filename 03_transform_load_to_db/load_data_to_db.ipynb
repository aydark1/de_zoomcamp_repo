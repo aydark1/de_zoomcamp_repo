{
 "cells": [
  {
   "cell_type": "code",
   "execution_count": 3,
   "id": "61fbc734",
   "metadata": {},
   "outputs": [],
   "source": [
    "import pyspark\n",
    "from pyspark.sql import SparkSession\n",
    "from pyspark.sql import types\n",
    "\n",
    "spark = SparkSession.builder \\\n",
    "    .master(\"local[*]\") \\\n",
    "    .appName('test') \\\n",
    "    .getOrCreate()"
   ]
  },
  {
   "cell_type": "code",
   "execution_count": 4,
   "id": "d23027f2",
   "metadata": {},
   "outputs": [],
   "source": [
    "spark.sparkContext._jsc.hadoopConfiguration().set(\"fs.s3a.endpoint\", \"storage.yandexcloud.net\")\n",
    "spark.sparkContext._jsc.hadoopConfiguration().set(\"fs.s3a.access.key\", \"*****\")\n",
    "spark.sparkContext._jsc.hadoopConfiguration().set(\"fs.s3a.secret.key\",\"*****\")"
   ]
  },
  {
   "cell_type": "code",
   "execution_count": 5,
   "id": "a92b3da6",
   "metadata": {},
   "outputs": [],
   "source": [
    "schema = types.StructType([\n",
    "    types.StructField('video_id', types.StringType(), True),\n",
    "    types.StructField('title', types.StringType(), True),\n",
    "    types.StructField('publishedAt', types.TimestampType(), True),\n",
    "    types.StructField('channelId', types.StringType(), True),\n",
    "    types.StructField('channelTitle', types.StringType(), True),\n",
    "    types.StructField('categoryId', types.IntegerType(), True),\n",
    "    types.StructField('trending_date', types.TimestampType(), True),\n",
    "    types.StructField('tags', types.StringType(), True),\n",
    "    types.StructField('view_count', types.IntegerType(), True),\n",
    "    types.StructField('likes', types.IntegerType(), True),\n",
    "    types.StructField('dislikes', types.IntegerType(), True),\n",
    "    types.StructField('comment_count', types.IntegerType(), True),\n",
    "    types.StructField('thumbnail_link', types.StringType(), True),    \n",
    "    types.StructField('comments_disabled', types.BooleanType(), True),  \n",
    "    types.StructField('ratings_disabled', types.BooleanType(), True),  \n",
    "    types.StructField('description', types.StringType(), True)      \n",
    "])"
   ]
  },
  {
   "cell_type": "code",
   "execution_count": 78,
   "id": "8bb0af61",
   "metadata": {},
   "outputs": [
    {
     "name": "stdout",
     "output_type": "stream",
     "text": [
      "+--------------------+--------------------+-------------------+--------------------+------------+----------+-------------------+--------------------+----------+------+--------+-------------+--------------------+-----------------+----------------+--------------------+\n",
      "|            video_id|               title|        publishedAt|           channelId|channelTitle|categoryId|      trending_date|                tags|view_count| likes|dislikes|comment_count|      thumbnail_link|comments_disabled|ratings_disabled|         description|\n",
      "+--------------------+--------------------+-------------------+--------------------+------------+----------+-------------------+--------------------+----------+------+--------+-------------+--------------------+-----------------+----------------+--------------------+\n",
      "|         3C66w5Z0ixs|I ASKED HER TO BE...|2020-08-12 00:20:14|UCvtRTOMP2TqYqu51...|    Brawadis|        22|2020-08-12 05:00:00|brawadis|prank|ba...|   1514614|156908|    5855|        35313|https://i.ytimg.c...|            false|           false|SUBSCRIBE to BRAW...|\n",
      "| FOLLOW ME ON SOCIAL|                null|               null|                null|        null|      null|               null|                null|      null|  null|    null|         null|                null|             null|            null|                null|\n",
      "|▶ Twitter: https:...|                null|               null|                null|        null|      null|               null|                null|      null|  null|    null|         null|                null|             null|            null|                null|\n",
      "|▶ Instagram: http...|                null|               null|                null|        null|      null|               null|                null|      null|  null|    null|         null|                null|             null|            null|                null|\n",
      "|▶ Snapchat: brawadis|                null|               null|                null|        null|      null|               null|                null|      null|  null|    null|         null|                null|             null|            null|                null|\n",
      "+--------------------+--------------------+-------------------+--------------------+------------+----------+-------------------+--------------------+----------+------+--------+-------------+--------------------+-----------------+----------------+--------------------+\n",
      "only showing top 5 rows\n",
      "\n"
     ]
    }
   ],
   "source": [
    "s3_df=spark.read.option(\"quoteAll\", True ).csv(\"s3a://kaggleyoutubedata/US_youtube_trending_data.csv\",header=True,schema = schema)\n",
    "s3_df.show(5)"
   ]
  },
  {
   "cell_type": "code",
   "execution_count": 83,
   "id": "022c7451",
   "metadata": {},
   "outputs": [],
   "source": [
    "s3_df = s3_df.drop('description')\n",
    "s3_df = s3_df.drop('thumbnail_link')\n",
    "s3_df = s3_df.drop('description')\n",
    "s3_df = s3_df.drop('title')\n",
    "s3_df = s3_df.drop('channelTitle')\n",
    "s3_df = s3_df.drop('tags')"
   ]
  },
  {
   "cell_type": "code",
   "execution_count": 8,
   "id": "fe5258a0",
   "metadata": {},
   "outputs": [
    {
     "name": "stdout",
     "output_type": "stream",
     "text": [
      "root\n",
      " |-- video_id: string (nullable = true)\n",
      " |-- publishedAt: timestamp (nullable = true)\n",
      " |-- channelId: string (nullable = true)\n",
      " |-- categoryId: integer (nullable = true)\n",
      " |-- trending_date: timestamp (nullable = true)\n",
      " |-- tags: string (nullable = true)\n",
      " |-- view_count: integer (nullable = true)\n",
      " |-- likes: integer (nullable = true)\n",
      " |-- dislikes: integer (nullable = true)\n",
      " |-- comment_count: integer (nullable = true)\n",
      " |-- comments_disabled: boolean (nullable = true)\n",
      " |-- ratings_disabled: boolean (nullable = true)\n",
      "\n"
     ]
    }
   ],
   "source": [
    "s3_df.printSchema()"
   ]
  },
  {
   "cell_type": "code",
   "execution_count": 84,
   "id": "dca9e75b",
   "metadata": {},
   "outputs": [
    {
     "name": "stderr",
     "output_type": "stream",
     "text": [
      "                                                                                \r"
     ]
    }
   ],
   "source": [
    "mode = \"overwrite\"\n",
    "url = \"jdbc:postgresql://*****.yandexcloud.net:6432/kaggle_youtube_data?targetServerType=master&ssl=true&sslmode=verify-full\"\n",
    "properties = {\"user\": \"*****\",\"password\": \"*****\",\"driver\": \"org.postgresql.Driver\"}\n",
    "s3_df.write.jdbc(url=url, table=\"youtube_trending_data\", mode=mode, properties=properties)"
   ]
  },
  {
   "cell_type": "code",
   "execution_count": 16,
   "id": "a84d5a59",
   "metadata": {},
   "outputs": [],
   "source": [
    "s3_category_df = spark.read.option(\"multiline\",True).json(\"s3a://kaggleyoutubedata/US_category_id.json\")"
   ]
  },
  {
   "cell_type": "code",
   "execution_count": 17,
   "id": "475c7539",
   "metadata": {},
   "outputs": [
    {
     "name": "stdout",
     "output_type": "stream",
     "text": [
      "root\n",
      " |-- etag: string (nullable = true)\n",
      " |-- items: array (nullable = true)\n",
      " |    |-- element: struct (containsNull = true)\n",
      " |    |    |-- etag: string (nullable = true)\n",
      " |    |    |-- id: string (nullable = true)\n",
      " |    |    |-- kind: string (nullable = true)\n",
      " |    |    |-- snippet: struct (nullable = true)\n",
      " |    |    |    |-- assignable: boolean (nullable = true)\n",
      " |    |    |    |-- channelId: string (nullable = true)\n",
      " |    |    |    |-- title: string (nullable = true)\n",
      " |-- kind: string (nullable = true)\n",
      "\n"
     ]
    }
   ],
   "source": [
    "s3_category_df.printSchema()"
   ]
  },
  {
   "cell_type": "code",
   "execution_count": 39,
   "id": "f00ad72b",
   "metadata": {},
   "outputs": [
    {
     "name": "stdout",
     "output_type": "stream",
     "text": [
      "+--------------------+\n",
      "|                  id|\n",
      "+--------------------+\n",
      "|[1, 2, 10, 15, 17...|\n",
      "+--------------------+\n",
      "\n"
     ]
    }
   ],
   "source": [
    "s3_category_df.select(\"items.id\").show(5)"
   ]
  },
  {
   "cell_type": "code",
   "execution_count": 38,
   "id": "436828f6",
   "metadata": {},
   "outputs": [],
   "source": [
    "from pyspark.sql import functions as F\n"
   ]
  },
  {
   "cell_type": "code",
   "execution_count": 41,
   "id": "f109735f",
   "metadata": {},
   "outputs": [
    {
     "name": "stdout",
     "output_type": "stream",
     "text": [
      "+--------------------+\n",
      "|               items|\n",
      "+--------------------+\n",
      "|[{IfWa37JGcqZs-jZ...|\n",
      "+--------------------+\n",
      "\n"
     ]
    }
   ],
   "source": [
    "#s3_category_df.withColumn('items', F.explode('items')).show()\n",
    "s3_category_df.select(\"items\").show(5)"
   ]
  },
  {
   "cell_type": "code",
   "execution_count": 73,
   "id": "4e7685ee",
   "metadata": {},
   "outputs": [],
   "source": [
    "category_df = s3_category_df.select(\"items\").withColumn('items', F.explode('items'))"
   ]
  },
  {
   "cell_type": "code",
   "execution_count": 64,
   "id": "a8994797",
   "metadata": {},
   "outputs": [
    {
     "name": "stdout",
     "output_type": "stream",
     "text": [
      "+--------------------+\n",
      "|               items|\n",
      "+--------------------+\n",
      "|{IfWa37JGcqZs-jZe...|\n",
      "|{5XGylIs7zkjHh594...|\n",
      "|{HCjFMARbBeWjpm6P...|\n",
      "|{ra8H7xyAfmE2Fews...|\n",
      "|{7mqChSJogdF3hSIL...|\n",
      "|{0Z6uGkj97NgjD-X3...|\n",
      "|{K_-7stg0kIU7eUBO...|\n",
      "|{I3IL9xGIM3MsULlq...|\n",
      "|{D1W6tq5mMMCV0wtN...|\n",
      "|{QMEBz6mxVdklVaq8...|\n",
      "|{v2n6q4JttoL4uUba...|\n",
      "|{Qi1csjh-POReitZE...|\n",
      "|{IbGXblQi8v_nOsXj...|\n",
      "|{gYzt8dB8mlod-84i...|\n",
      "|{hHUhloYhyMMqVkQ4...|\n",
      "|{KEdEtUd4WGk_aACr...|\n",
      "|{AioSVwhKNpZ2bhtw...|\n",
      "|{tMfbFvkfuPP8YnUE...|\n",
      "|{totPMF_82XTvVFy0...|\n",
      "|{LNgRKNynxC50MeYV...|\n",
      "+--------------------+\n",
      "only showing top 20 rows\n",
      "\n"
     ]
    }
   ],
   "source": [
    "category_df.show()"
   ]
  },
  {
   "cell_type": "code",
   "execution_count": 65,
   "id": "dcd474a7",
   "metadata": {},
   "outputs": [
    {
     "name": "stdout",
     "output_type": "stream",
     "text": [
      "root\n",
      " |-- items: struct (nullable = true)\n",
      " |    |-- etag: string (nullable = true)\n",
      " |    |-- id: string (nullable = true)\n",
      " |    |-- kind: string (nullable = true)\n",
      " |    |-- snippet: struct (nullable = true)\n",
      " |    |    |-- assignable: boolean (nullable = true)\n",
      " |    |    |-- channelId: string (nullable = true)\n",
      " |    |    |-- title: string (nullable = true)\n",
      "\n"
     ]
    }
   ],
   "source": [
    "category_df.printSchema()"
   ]
  },
  {
   "cell_type": "code",
   "execution_count": 66,
   "id": "0a57961a",
   "metadata": {
    "scrolled": true
   },
   "outputs": [
    {
     "name": "stdout",
     "output_type": "stream",
     "text": [
      "+--------------------+---+--------------------+--------------------+\n",
      "|                etag| id|                kind|             snippet|\n",
      "+--------------------+---+--------------------+--------------------+\n",
      "|IfWa37JGcqZs-jZeA...|  1|youtube#videoCate...|{true, UCBR8-60-B...|\n",
      "|5XGylIs7zkjHh5940...|  2|youtube#videoCate...|{true, UCBR8-60-B...|\n",
      "|HCjFMARbBeWjpm6PD...| 10|youtube#videoCate...|{true, UCBR8-60-B...|\n",
      "|ra8H7xyAfmE2FewsD...| 15|youtube#videoCate...|{true, UCBR8-60-B...|\n",
      "|7mqChSJogdF3hSIL-...| 17|youtube#videoCate...|{true, UCBR8-60-B...|\n",
      "|0Z6uGkj97NgjD-X3p...| 18|youtube#videoCate...|{false, UCBR8-60-...|\n",
      "|K_-7stg0kIU7eUBOP...| 19|youtube#videoCate...|{true, UCBR8-60-B...|\n",
      "|I3IL9xGIM3MsULlqR...| 20|youtube#videoCate...|{true, UCBR8-60-B...|\n",
      "|D1W6tq5mMMCV0wtNx...| 21|youtube#videoCate...|{false, UCBR8-60-...|\n",
      "|QMEBz6mxVdklVaq8J...| 22|youtube#videoCate...|{true, UCBR8-60-B...|\n",
      "|v2n6q4JttoL4uUbaz...| 23|youtube#videoCate...|{true, UCBR8-60-B...|\n",
      "|Qi1csjh-POReitZEb...| 24|youtube#videoCate...|{true, UCBR8-60-B...|\n",
      "|IbGXblQi8v_nOsXji...| 25|youtube#videoCate...|{true, UCBR8-60-B...|\n",
      "|gYzt8dB8mlod-84ip...| 26|youtube#videoCate...|{true, UCBR8-60-B...|\n",
      "|hHUhloYhyMMqVkQ4L...| 27|youtube#videoCate...|{true, UCBR8-60-B...|\n",
      "|KEdEtUd4WGk_aACrY...| 28|youtube#videoCate...|{true, UCBR8-60-B...|\n",
      "|AioSVwhKNpZ2bhtw9...| 29|youtube#videoCate...|{true, UCBR8-60-B...|\n",
      "|tMfbFvkfuPP8YnUEq...| 30|youtube#videoCate...|{false, UCBR8-60-...|\n",
      "|totPMF_82XTvVFy0E...| 31|youtube#videoCate...|{false, UCBR8-60-...|\n",
      "|LNgRKNynxC50MeYV9...| 32|youtube#videoCate...|{false, UCBR8-60-...|\n",
      "+--------------------+---+--------------------+--------------------+\n",
      "only showing top 20 rows\n",
      "\n"
     ]
    }
   ],
   "source": [
    "category_df.select('items.*').show()"
   ]
  },
  {
   "cell_type": "code",
   "execution_count": 76,
   "id": "d3210fc4",
   "metadata": {},
   "outputs": [],
   "source": [
    "category_df = category_df.select('items.id','items.snippet.title')"
   ]
  },
  {
   "cell_type": "code",
   "execution_count": 77,
   "id": "a49824a0",
   "metadata": {},
   "outputs": [
    {
     "name": "stderr",
     "output_type": "stream",
     "text": [
      "\r",
      "[Stage 20:>                                                         (0 + 1) / 1]\r",
      "\r",
      "                                                                                \r"
     ]
    }
   ],
   "source": [
    "mode = \"overwrite\"\n",
    "url = \"jdbc:postgresql://*****.mdb.yandexcloud.net:6432/kaggle_youtube_data?targetServerType=master&ssl=true&sslmode=verify-full\"\n",
    "properties = {\"user\": \"v\",\"password\": \"*****\",\"driver\": \"org.postgresql.Driver\"}\n",
    "category_df.write.jdbc(url=url, table=\"video_category\", mode=mode, properties=properties)"
   ]
  },
  {
   "cell_type": "code",
   "execution_count": 85,
   "id": "276545f3",
   "metadata": {},
   "outputs": [
    {
     "name": "stderr",
     "output_type": "stream",
     "text": [
      "/home/aydar/spark/python/pyspark/sql/dataframe.py:138: FutureWarning: Deprecated in 2.0, use createOrReplaceTempView instead.\n",
      "  warnings.warn(\n"
     ]
    }
   ],
   "source": [
    "s3_df.join(category_df, s3_df.categoryId == category_df.id, 'inner').registerTempTable('yt_data')"
   ]
  },
  {
   "cell_type": "code",
   "execution_count": 86,
   "id": "1ccac9ee",
   "metadata": {},
   "outputs": [],
   "source": [
    "df_result = spark.sql(\"\"\"\n",
    "SELECT \n",
    "    -- Reveneue grouping \n",
    "    title AS category_name,\n",
    "    date_trunc('month', publishedAt) AS published_month, \n",
    "    date_trunc('month', trending_date) AS trending_month, \n",
    "    \n",
    "    count(categoryId) count_videos, \n",
    "    AVG(view_count) avg_view_count,\n",
    "    AVG(likes) avg_likes\n",
    "FROM\n",
    "    yt_data\n",
    "GROUP BY\n",
    "    1, 2, 3\n",
    "\"\"\")"
   ]
  },
  {
   "cell_type": "code",
   "execution_count": 87,
   "id": "82deb585",
   "metadata": {},
   "outputs": [
    {
     "name": "stderr",
     "output_type": "stream",
     "text": [
      "                                                                                \r"
     ]
    }
   ],
   "source": [
    "mode = \"overwrite\"\n",
    "url = \"jdbc:postgresql://*****.mdb.yandexcloud.net:6432/kaggle_youtube_data?targetServerType=master&ssl=true&sslmode=verify-full\"\n",
    "properties = {\"user\": \"*****\",\"password\": \"*****\",\"driver\": \"org.postgresql.Driver\"}\n",
    "df_result.write.jdbc(url=url, table=\"yt_data_transformed\", mode=mode, properties=properties)"
   ]
  },
  {
   "cell_type": "code",
   "execution_count": null,
   "id": "b1340c33",
   "metadata": {},
   "outputs": [],
   "source": []
  }
 ],
 "metadata": {
  "kernelspec": {
   "display_name": "Python 3 (ipykernel)",
   "language": "python",
   "name": "python3"
  },
  "language_info": {
   "codemirror_mode": {
    "name": "ipython",
    "version": 3
   },
   "file_extension": ".py",
   "mimetype": "text/x-python",
   "name": "python",
   "nbconvert_exporter": "python",
   "pygments_lexer": "ipython3",
   "version": "3.9.13"
  }
 },
 "nbformat": 4,
 "nbformat_minor": 5
}
